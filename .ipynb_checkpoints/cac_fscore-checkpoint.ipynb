{
 "cells": [
  {
   "cell_type": "code",
   "execution_count": 135,
   "metadata": {},
   "outputs": [],
   "source": [
    "##Calculating Piotroski's F score\n",
    "import numpy as np\n",
    "import pandas as pd\n",
    "from tabula import read_pdf as rp\n",
    "from bs4 import BeautifulSoup as bs\n",
    "from selenium import webdriver\n",
    "from selenium.webdriver.chrome.options import Options\n",
    "import os\n",
    "import time"
   ]
  },
  {
   "cell_type": "code",
   "execution_count": 189,
   "metadata": {},
   "outputs": [],
   "source": [
    "## setting up browser\n",
    "def browser_setup():\n",
    "    url=\"https://www.capitalmarket.com/Company-Information/Getquote\"\n",
    "    chrome_options = Options();\n",
    "    chrome_options.add_argument(\"--headless\")\n",
    "    chrome_options.binary_location = 'C:/Users/Harshit Mishra/AppData/Local/Google/Chrome SxS/Application/chrome.exe'    \n",
    "    driver = webdriver.Chrome(executable_path=os.path.abspath(\"chromedriver\"),options=chrome_options)  \n",
    "    driver.get(url)\n",
    "    driver.implicitly_wait(10)\n",
    "    return driver"
   ]
  },
  {
   "cell_type": "code",
   "execution_count": 178,
   "metadata": {},
   "outputs": [],
   "source": [
    "def extract_link(company_name,driver):\n",
    "    search_bar = driver.find_element_by_xpath('//*[@id=\"ContentPlaceHolder1_txtSearchScheme\"]')\n",
    "    search_bar.clear()\n",
    "    search_bar.send_keys(company_name);\n",
    "    drpdwn= driver.find_element_by_xpath('//*[@id=\"ContentPlaceHolder1_pnlGetQuote\"]/div/div/div/div[2]/div[3]/div/div')\n",
    "    drpdwn.click()\n",
    "    bs= driver.find_element_by_xpath('//*[@id=\"ContentPlaceHolder1_pnlGetQuote\"]/div/div/div/div[2]/div[3]/div/ul/li[8]')\n",
    "    bs.click();\n",
    "    go = driver.find_element_by_xpath('//*[@id=\"ContentPlaceHolder1_pnlGetQuote\"]/div/div/div/div[3]/div[2]/div')\n",
    "    go.click();\n",
    "    time.sleep(5);\n",
    "    link_bs=driver.current_url;\n",
    "    return link_bs;"
   ]
  },
  {
   "cell_type": "code",
   "execution_count": 270,
   "metadata": {},
   "outputs": [
    {
     "name": "stdout",
     "output_type": "stream",
     "text": [
      "                                                   0\n",
      "0               0                1               ...\n",
      "1              Empty DataFrame\n",
      "Columns: []\n",
      "Index: []\n"
     ]
    }
   ],
   "source": [
    "driver=browser_setup()\n",
    "    "
   ]
  },
  {
   "cell_type": "code",
   "execution_count": 269,
   "metadata": {},
   "outputs": [],
   "source": []
  },
  {
   "cell_type": "code",
   "execution_count": 272,
   "metadata": {},
   "outputs": [],
   "source": [
    "def extract_bs(driver):\n",
    "    bs=driver.find_element_by_xpath('//*[@id=\"ContentPlaceHolder1_td_BalanceSheet\"]/table');\n",
    "    years=pd.DataFrame();\n",
    "    values=pd.DataFrame();\n",
    "    i=0;\n",
    "    for row in bs.find_elements_by_xpath(\".//tr\"):\n",
    "        if(i==0):\n",
    "            for y in row.find_elements_by_xpath('./th'):\n",
    "                years=years.append([y.get_attribute('textContent')],ignore_index=True);\n",
    "            i=i+1;\n",
    "        else:\n",
    "            for v in row.find_elements_by_xpath('./td'):\n",
    "                values=values.append([v.get_attribute('textContent')],ignore_index=True);\n",
    "\n",
    "    #df = pd.DataFrame([years.T,values.T]);\n",
    "    print(values)\n",
    "       # spec_name.append(row.find_element_by_xpath('./th').get_attribute('textContent'))\n",
    "        #spec_item.append(row.find_element_by_xpath('./td/span').get_attribute('textContent'))\n",
    "\n",
    "        #df = pd.DataFrame({\"Spec_Name\":spec_name,\"Spec_Title\":spec_item})\n",
    "#//*[@id=\"ContentPlaceHolder1_td_BalanceSheet\"]/table/tbody/tr[1]\n",
    "        #print(df)\n",
    "    #tds = bs.find_elements_by_tag_name('td')\n",
    "    #print ([td.text for td in tds])\n",
    "    "
   ]
  },
  {
   "cell_type": "code",
   "execution_count": 273,
   "metadata": {},
   "outputs": [
    {
     "name": "stdout",
     "output_type": "stream",
     "text": [
      "Empty DataFrame\n",
      "Columns: []\n",
      "Index: []\n"
     ]
    }
   ],
   "source": [
    "extract_bs(driver)"
   ]
  },
  {
   "cell_type": "code",
   "execution_count": 249,
   "metadata": {},
   "outputs": [
    {
     "data": {
      "text/html": [
       "<div>\n",
       "<style scoped>\n",
       "    .dataframe tbody tr th:only-of-type {\n",
       "        vertical-align: middle;\n",
       "    }\n",
       "\n",
       "    .dataframe tbody tr th {\n",
       "        vertical-align: top;\n",
       "    }\n",
       "\n",
       "    .dataframe thead th {\n",
       "        text-align: right;\n",
       "    }\n",
       "</style>\n",
       "<table border=\"1\" class=\"dataframe\">\n",
       "  <thead>\n",
       "    <tr style=\"text-align: right;\">\n",
       "      <th></th>\n",
       "      <th>0</th>\n",
       "    </tr>\n",
       "  </thead>\n",
       "  <tbody>\n",
       "    <tr>\n",
       "      <th>0</th>\n",
       "      <td>6</td>\n",
       "    </tr>\n",
       "  </tbody>\n",
       "</table>\n",
       "</div>"
      ],
      "text/plain": [
       "   0\n",
       "0  6"
      ]
     },
     "execution_count": 249,
     "metadata": {},
     "output_type": "execute_result"
    }
   ],
   "source": [
    "b=pd.DataFrame()\n",
    "b=b.append([6])\n",
    "b"
   ]
  },
  {
   "cell_type": "code",
   "execution_count": 59,
   "metadata": {},
   "outputs": [
    {
     "data": {
      "text/html": [
       "<div>\n",
       "<style scoped>\n",
       "    .dataframe tbody tr th:only-of-type {\n",
       "        vertical-align: middle;\n",
       "    }\n",
       "\n",
       "    .dataframe tbody tr th {\n",
       "        vertical-align: top;\n",
       "    }\n",
       "\n",
       "    .dataframe thead th {\n",
       "        text-align: right;\n",
       "    }\n",
       "</style>\n",
       "<table border=\"1\" class=\"dataframe\">\n",
       "  <thead>\n",
       "    <tr style=\"text-align: right;\">\n",
       "      <th></th>\n",
       "      <th>unnamed: 0</th>\n",
       "      <th>note</th>\n",
       "      <th>as at march 31, 2019</th>\n",
       "      <th>as at march 31, 2018</th>\n",
       "    </tr>\n",
       "  </thead>\n",
       "  <tbody>\n",
       "    <tr>\n",
       "      <th>25</th>\n",
       "      <td>total assets</td>\n",
       "      <td>nan</td>\n",
       "      <td>3,958,600.60</td>\n",
       "      <td>3,984,283.01</td>\n",
       "    </tr>\n",
       "  </tbody>\n",
       "</table>\n",
       "</div>"
      ],
      "text/plain": [
       "      unnamed: 0 note as at march 31, 2019 as at march 31, 2018\n",
       "25  total assets  nan         3,958,600.60         3,984,283.01"
      ]
     },
     "execution_count": 59,
     "metadata": {},
     "output_type": "execute_result"
    }
   ],
   "source": [
    "TA=bs[bs.iloc[:,0]==\"total assets\"][2]\n",
    "NI="
   ]
  },
  {
   "cell_type": "code",
   "execution_count": 19,
   "metadata": {},
   "outputs": [],
   "source": [
    "##Profitability Ratios 4\n",
    "roa=0; #return on assets\n",
    "if(NI/TA>0):roa=1;\n",
    "\n",
    "ocf=0; ##operational cash flow\n",
    "if(CF/TA>0):ocf=1;\n",
    "\n",
    "acc=0 ##accurals\n",
    "if(roa-ocf<0):acc=1;\n",
    "\n",
    "del_roa=0; #del_roa\n",
    "if(roa[i-1]-roa[i]>0):del_roa=1;\n",
    "\n",
    "#Capital Structure ratios 3\n",
    "##change in leverage \n",
    "lev1=ltd/avg_lta; \n",
    "lev0=ltd0/avg_lta0;\n",
    "del_lev=lev1-lev0;\n",
    "if(del_lev<0):\n",
    "    f_dellev=1;\n",
    "else:\n",
    "    f_dellev=0;\n",
    "\n",
    "#change in liquidity\n",
    "f_del_liquid=0; \n",
    "curr_rat1=curr_asset1/cur_liab1; ## Current ratio\n",
    "curr_rat0=curr_asset0/cur_liab0;\n",
    "del_liquid=curr_rat1-curr_rat0;\n",
    "if(del_liquid>0): f_del_liquid=1;\n",
    "\n",
    "eq_offer = 0; #if company has raised equity money in last one year put it one\n",
    "\n",
    "##Efficiency Measures\n",
    "f_del_margin=0; #del_margin\n",
    "gmr1=g_margin/total_sales; ##gross margin ratio\n",
    "gmr0=g_margin0/total_sales0;\n",
    "del_margin= gmr1-gmr0;\n",
    "if(del_margin>0):f_delmargin=1;\n",
    "\n",
    "#del_turnover\n",
    "f_del_turnover=0;\n",
    "atr1=total_sales/total_asset_at_beg;\n",
    "atr0=total_sales0/total_asset_at_beg0;\n",
    "del_turnover=atr1-atr0;\n",
    "if(del_turnover>0):f_del_turnover=1;\n"
   ]
  },
  {
   "cell_type": "code",
   "execution_count": null,
   "metadata": {
    "collapsed": true
   },
   "outputs": [],
   "source": [
    "#Petroski's F_score\n",
    "f_profitability=f_roa+f_ocf+f_accurals+f_del_roa;\n",
    "f_capital=f_dellev+f_delliq+f_eq_offer;\n",
    "f_efficiency=f_del_turnover+f_del_margin;\n",
    "\n",
    "f_score= f_profitability+f_capital+f_efficiency"
   ]
  }
 ],
 "metadata": {
  "anaconda-cloud": {},
  "kernelspec": {
   "display_name": "Python 3",
   "language": "python",
   "name": "python3"
  },
  "language_info": {
   "codemirror_mode": {
    "name": "ipython",
    "version": 3
   },
   "file_extension": ".py",
   "mimetype": "text/x-python",
   "name": "python",
   "nbconvert_exporter": "python",
   "pygments_lexer": "ipython3",
   "version": "3.7.6"
  }
 },
 "nbformat": 4,
 "nbformat_minor": 1
}
